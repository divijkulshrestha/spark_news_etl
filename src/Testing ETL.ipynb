{
 "cells": [
  {
   "cell_type": "code",
   "execution_count": 4,
   "id": "59758c1f-21e4-4a3c-8843-06c77e716bc6",
   "metadata": {},
   "outputs": [
    {
     "name": "stdout",
     "output_type": "stream",
     "text": [
      "Reading raw data from: /home/divij/work/data/raw_news.json\n",
      "✅ ETL complete. Cleaned data saved to: /home/divij/work/output/cleaned_news.parquet\n"
     ]
    }
   ],
   "source": [
    "script_path = \"/home/divij/work/src/etl_news.py\"\n",
    "\n",
    "%run {script_path}"
   ]
  }
 ],
 "metadata": {
  "kernelspec": {
   "display_name": "Python 3 (ipykernel)",
   "language": "python",
   "name": "python3"
  },
  "language_info": {
   "codemirror_mode": {
    "name": "ipython",
    "version": 3
   },
   "file_extension": ".py",
   "mimetype": "text/x-python",
   "name": "python",
   "nbconvert_exporter": "python",
   "pygments_lexer": "ipython3",
   "version": "3.11.6"
  }
 },
 "nbformat": 4,
 "nbformat_minor": 5
}
